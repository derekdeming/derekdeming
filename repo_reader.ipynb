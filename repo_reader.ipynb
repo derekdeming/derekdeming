{
 "cells": [
  {
   "cell_type": "code",
   "execution_count": 1,
   "metadata": {},
   "outputs": [
    {
     "name": "stdout",
     "output_type": "stream",
     "text": [
      "Defaulting to user installation because normal site-packages is not writeable\n",
      "Requirement already satisfied: nest_asyncio in c:\\users\\derek\\appdata\\roaming\\python\\python39\\site-packages (1.5.6)\n",
      "Requirement already satisfied: httpx in c:\\users\\derek\\appdata\\roaming\\python\\python39\\site-packages (0.23.3)\n",
      "Requirement already satisfied: certifi in c:\\users\\derek\\appdata\\roaming\\python\\python39\\site-packages (from httpx) (2023.5.7)\n",
      "Requirement already satisfied: httpcore<0.17.0,>=0.15.0 in c:\\users\\derek\\appdata\\roaming\\python\\python39\\site-packages (from httpx) (0.16.3)\n",
      "Requirement already satisfied: rfc3986[idna2008]<2,>=1.3 in c:\\users\\derek\\appdata\\roaming\\python\\python39\\site-packages (from httpx) (1.5.0)\n",
      "Requirement already satisfied: sniffio in c:\\users\\derek\\appdata\\roaming\\python\\python39\\site-packages (from httpx) (1.3.0)\n",
      "Requirement already satisfied: h11<0.15,>=0.13 in c:\\users\\derek\\appdata\\roaming\\python\\python39\\site-packages (from httpcore<0.17.0,>=0.15.0->httpx) (0.14.0)\n",
      "Requirement already satisfied: anyio<5.0,>=3.0 in c:\\users\\derek\\appdata\\roaming\\python\\python39\\site-packages (from httpcore<0.17.0,>=0.15.0->httpx) (3.7.0)\n",
      "Requirement already satisfied: idna in c:\\users\\derek\\appdata\\roaming\\python\\python39\\site-packages (from rfc3986[idna2008]<2,>=1.3->httpx) (3.4)\n",
      "Requirement already satisfied: exceptiongroup in c:\\users\\derek\\appdata\\roaming\\python\\python39\\site-packages (from anyio<5.0,>=3.0->httpcore<0.17.0,>=0.15.0->httpx) (1.1.1)\n"
     ]
    },
    {
     "name": "stderr",
     "output_type": "stream",
     "text": [
      "\n",
      "[notice] A new release of pip is available: 23.1.2 -> 23.2.1\n",
      "[notice] To update, run: python.exe -m pip install --upgrade pip\n"
     ]
    }
   ],
   "source": [
    "!pip install nest_asyncio httpx"
   ]
  },
  {
   "cell_type": "code",
   "execution_count": 4,
   "metadata": {},
   "outputs": [
    {
     "name": "stdout",
     "output_type": "stream",
     "text": [
      "Defaulting to user installation because normal site-packages is not writeable\n",
      "Requirement already satisfied: python-dotenv in c:\\users\\derek\\appdata\\roaming\\python\\python39\\site-packages (1.0.0)\n",
      "Note: you may need to restart the kernel to use updated packages.\n"
     ]
    },
    {
     "name": "stderr",
     "output_type": "stream",
     "text": [
      "\n",
      "[notice] A new release of pip is available: 23.1.2 -> 23.2.1\n",
      "[notice] To update, run: python.exe -m pip install --upgrade pip\n"
     ]
    }
   ],
   "source": [
    "pip install python-dotenv"
   ]
  },
  {
   "cell_type": "code",
   "execution_count": 6,
   "metadata": {},
   "outputs": [],
   "source": [
    "import nest_asyncio\n",
    "from llama_hub.file.pdf.base import PDFReader\n",
    "from llama_index import VectorStoreIndex, GithubRepositoryReader\n",
    "from IPython.display import Markdown, display\n",
    "import os\n",
    "import dotenv\n",
    "from dotenv import load_dotenv\n",
    "\n",
    "nest_asyncio.apply()"
   ]
  },
  {
   "cell_type": "code",
   "execution_count": null,
   "metadata": {},
   "outputs": [],
   "source": [
    "github_token = os.environ.get(\"GITHUB_TOKEN\")\n",
    "owner = \"derekdeming\"\n",
    "repo = \"BIOIDE\"\n",
    "branch = \"main\"\n",
    "\n",
    "documents = GithubRepositoryReader(\n",
    "    github_token=github_token,\n",
    "    owner=owner,\n",
    "    repo=repo,\n",
    "    use_parser=False,\n",
    "    verbose=False,\n",
    "    ignore_directories=[\"examples\"],\n",
    ").load_data(branch=branch)"
   ]
  },
  {
   "cell_type": "code",
   "execution_count": null,
   "metadata": {},
   "outputs": [],
   "source": [
    "index = VectorStoreIndex.from_documents(documents)"
   ]
  },
  {
   "cell_type": "code",
   "execution_count": null,
   "metadata": {},
   "outputs": [],
   "source": [
    "# import time\n",
    "# for document in documents:\n",
    "#     print(document.metadata)\n",
    "#     time.sleep(.25)\n",
    "query_engine = index.as_query_engine()\n",
    "response = query_engine.query(\n",
    "    \"What is the difference between VectorStoreIndex and ListIndex?\", verbose=True\n",
    ")"
   ]
  },
  {
   "cell_type": "code",
   "execution_count": null,
   "metadata": {},
   "outputs": [],
   "source": [
    "display(Markdown(f\"<b>{response}</b>\"))"
   ]
  }
 ],
 "metadata": {
  "kernelspec": {
   "display_name": "Python 3",
   "language": "python",
   "name": "python3"
  },
  "language_info": {
   "codemirror_mode": {
    "name": "ipython",
    "version": 3
   },
   "file_extension": ".py",
   "mimetype": "text/x-python",
   "name": "python",
   "nbconvert_exporter": "python",
   "pygments_lexer": "ipython3",
   "version": "3.9.13"
  },
  "orig_nbformat": 4
 },
 "nbformat": 4,
 "nbformat_minor": 2
}
